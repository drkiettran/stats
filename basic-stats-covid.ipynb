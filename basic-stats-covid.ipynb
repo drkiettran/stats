{
 "cells": [
  {
   "cell_type": "markdown",
   "metadata": {},
   "source": [
    "# Statistics for COVID\n",
    "\n",
    "- Install matplotlib: pip3 install matplotlib\n",
    "- Install scipy: pip3 install scipy\n"
   ]
  },
  {
   "cell_type": "code",
   "execution_count": null,
   "metadata": {},
   "outputs": [],
   "source": [
    "import numpy as np\n",
    "import matplotlib.pyplot as plt\n",
    "import csv\n",
    "import datetime\n",
    "from json import JSONEncoder\n",
    "from scipy import stats\n",
    "from urllib.request import urlopen"
   ]
  },
  {
   "cell_type": "code",
   "execution_count": null,
   "metadata": {},
   "outputs": [],
   "source": [
    "covid_data_dir='/home/student/data/COVID-19/'\n",
    "covid_data_daily_reports_dir=covid_data_dir + '/csse_covid_19_data/csse_covid_19_daily_reports/'\n",
    "covid_data_daily_file=covid_data_daily_reports_dir + '/06-07-2020.csv'\n"
   ]
  },
  {
   "cell_type": "code",
   "execution_count": null,
   "metadata": {},
   "outputs": [],
   "source": [
    "class DailyEntry:\n",
    "    def __init__(self, fips, admin2, province_state, country_region,\n",
    "                 last_update, lat, long, confirmed, deaths, \n",
    "                 recovered, active, combined_key,\n",
    "                 incident_rate, case_fatality_ratio):\n",
    "        self.fips = fips\n",
    "        self.admin2 = admin2\n",
    "        self.province_state = province_state\n",
    "        self.country_region = country_region\n",
    "        self.last_update = last_update\n",
    "        self.lat = lat\n",
    "        self.long = long\n",
    "        self.confirmed = confirmed\n",
    "        self.deaths = deaths\n",
    "        self.recovered = recovered\n",
    "        self.active = active\n",
    "        self.combined_key = combined_key\n",
    "        self.incident_rate = incident_rate\n",
    "        self.case_fatality_ratio = case_fatality_ratio\n",
    "    fips: int\n",
    "    admin2: str\n",
    "    province_state: str\n",
    "    country_region: str\n",
    "    last_update: str\n",
    "    lat: str\n",
    "    long: str\n",
    "    confirmed: int\n",
    "    deaths: int\n",
    "    recovered: int\n",
    "    active: int\n",
    "    combined_key: str\n",
    "    incident_rate: float\n",
    "    case_fatality_ratio: float"
   ]
  },
  {
   "cell_type": "markdown",
   "metadata": {},
   "source": [
    "## Load CSV Data\n",
    "- Data is in the column oriented list\n",
    "- Data is in row of daily_entries"
   ]
  },
  {
   "cell_type": "code",
   "execution_count": null,
   "metadata": {},
   "outputs": [],
   "source": [
    "columns = {}\n",
    "daily_entries = []\n",
    "\n",
    "with open(covid_data_daily_file, 'r') as csvfile:\n",
    "    reader = csv.reader(csvfile)\n",
    "    headers = next(reader, None)\n",
    "    \n",
    "    for h in headers:\n",
    "        columns[h] = []\n",
    "       \n",
    "    for row in reader:\n",
    "        # last_update = datetime.datetime.strptime(row[4], '%Y-%m-%d %H:%M:%S')\n",
    "        last_update = row[4]\n",
    "        if not row[12]: row[12] = '0.0'\n",
    "        if not row [13]: row[13] = '0.0'\n",
    "        daily_entry = DailyEntry(row[0], row[1], row[2], row[3], last_update, row[5], row[6],\n",
    "                                    row[7], row[8], row[9], row[10], row[11], \n",
    "                                    float(row[12]), float(row[13]))\n",
    "        daily_entries.append(daily_entry)\n",
    "        for h, v in zip(headers, row):\n",
    "            columns[h].append(v)"
   ]
  },
  {
   "cell_type": "markdown",
   "metadata": {},
   "source": [
    "## Convert to JSON format for daily entries"
   ]
  },
  {
   "cell_type": "code",
   "execution_count": null,
   "metadata": {},
   "outputs": [],
   "source": [
    "\n",
    "class MyEncoder(JSONEncoder):\n",
    "    def default(self, o):\n",
    "        return o.__dict__    \n",
    "\n",
    "dump = json.dumps(daily_entries[0], cls=MyEncoder, indent=2)\n",
    "print(dump)\n"
   ]
  },
  {
   "cell_type": "code",
   "execution_count": null,
   "metadata": {},
   "outputs": [],
   "source": [
    "daily_confirmed_by_country = map(lambda x: (x.country_region, x.confirmed), daily_entries)"
   ]
  },
  {
   "cell_type": "code",
   "execution_count": null,
   "metadata": {},
   "outputs": [],
   "source": [
    "from itertools import groupby\n",
    "mapping = map(lambda x: (x.country_region, x.confirmed), daily_entries)\n",
    "sorted_mapping = sorted(mapping)\n",
    "\n",
    "grouper = groupby(mapping, lambda x: x[0])\n",
    "result = map(lambda l: (l[0], reduce(lambda x, y: x + y, map(lambda p:p[1], l[1]))), grouper)\n",
    "dir(result)"
   ]
  },
  {
   "cell_type": "code",
   "execution_count": null,
   "metadata": {},
   "outputs": [],
   "source": [
    "print('Sorted by Country Region, Province State and City:\\n')\n",
    "for daily_entry in daily_entries:\n",
    "    if daily_entry.province_state:\n",
    "        print(f'{daily_entry.country_region}, {daily_entry.province_state}, {daily_entry.admin2}')\n"
   ]
  },
  {
   "cell_type": "code",
   "execution_count": null,
   "metadata": {},
   "outputs": [],
   "source": [
    "flatten = list(x for x in daily_entries)\n",
    "print(flatten)"
   ]
  },
  {
   "cell_type": "code",
   "execution_count": null,
   "metadata": {},
   "outputs": [],
   "source": [
    "daily_confirmed_by_country = flatten.flatMap(lambda x: x).map(lambda x: x.country_region, x.confirmed).reduce(lambda a, b: a + b)"
   ]
  },
  {
   "cell_type": "code",
   "execution_count": null,
   "metadata": {},
   "outputs": [],
   "source": [
    "daily_by_country.keys()"
   ]
  },
  {
   "cell_type": "code",
   "execution_count": null,
   "metadata": {},
   "outputs": [],
   "source": [
    "type(daily_by_country)"
   ]
  },
  {
   "cell_type": "code",
   "execution_count": null,
   "metadata": {},
   "outputs": [],
   "source": [
    "for key in daily_by_country:\n",
    "    print(key, daily_by_country[key].confirmed)\n",
    "    # print(key)"
   ]
  },
  {
   "cell_type": "code",
   "execution_count": null,
   "metadata": {},
   "outputs": [],
   "source": []
  },
  {
   "cell_type": "code",
   "execution_count": null,
   "metadata": {},
   "outputs": [],
   "source": []
  }
 ],
 "metadata": {
  "kernelspec": {
   "display_name": "Python 3",
   "language": "python",
   "name": "python3"
  },
  "language_info": {
   "codemirror_mode": {
    "name": "ipython",
    "version": 3
   },
   "file_extension": ".py",
   "mimetype": "text/x-python",
   "name": "python",
   "nbconvert_exporter": "python",
   "pygments_lexer": "ipython3",
   "version": "3.6.9"
  }
 },
 "nbformat": 4,
 "nbformat_minor": 2
}
