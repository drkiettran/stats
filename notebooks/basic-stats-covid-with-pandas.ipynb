{
 "cells": [
  {
   "cell_type": "markdown",
   "metadata": {},
   "source": [
    "# Covid 19 data analysis\n",
    "This notebook contains Python code that perform exploratory data analysis (EDA) using Pandas\n",
    "\n",
    "### Requirements\n",
    "- Python 3.7 or below. (3.8+ does not work at this point with Apache Spark).\n",
    "- Pandas"
   ]
  },
  {
   "cell_type": "code",
   "execution_count": null,
   "metadata": {},
   "outputs": [],
   "source": [
    "import pydoop.hdfs as hd\n",
    "import pandas as pd"
   ]
  },
  {
   "cell_type": "code",
   "execution_count": null,
   "metadata": {},
   "outputs": [],
   "source": [
    "covid_data_dir='/user/student/csse_covid_19_data/'\n",
    "covid_data_daily_reports_dir=covid_data_dir + 'csse_covid_19_daily_reports/'\n",
    "covid_data_daily_file=covid_data_daily_reports_dir + '/06-07-2020.csv'"
   ]
  },
  {
   "cell_type": "code",
   "execution_count": null,
   "metadata": {
    "scrolled": true
   },
   "outputs": [],
   "source": [
    "with hd.open(covid_data_daily_file) as f:\n",
    "    pd_daily =  pd.read_csv(f)\n",
    "\n",
    "pd_daily"
   ]
  },
  {
   "cell_type": "code",
   "execution_count": null,
   "metadata": {},
   "outputs": [],
   "source": [
    "pd_confirmed = pd_daily.groupby(['Country_Region'])['Confirmed'].sum()\n",
    "# pd_confirmed.columns=['Country_Region','Confirmed']"
   ]
  },
  {
   "cell_type": "code",
   "execution_count": null,
   "metadata": {},
   "outputs": [],
   "source": [
    "# sorted_pd_confirmed = pd_confirmed.sort_values(by=['Confirmed'], ascending=False)\n",
    "pd_confirmed.columns=['Country_Region','Confirmed']\n",
    "pd_confirmed\n"
   ]
  },
  {
   "cell_type": "code",
   "execution_count": null,
   "metadata": {},
   "outputs": [],
   "source": [
    "sorted_pd_confirmed.take([0,10]).plot()\n",
    "sorted_pd_confirmed.head().plot()"
   ]
  },
  {
   "cell_type": "code",
   "execution_count": null,
   "metadata": {},
   "outputs": [],
   "source": [
    "sorted_pd_confirmed.head()"
   ]
  },
  {
   "cell_type": "code",
   "execution_count": null,
   "metadata": {},
   "outputs": [],
   "source": [
    "len(pd_deaths), len(pd_confirmed), len(pd_recovered)"
   ]
  },
  {
   "cell_type": "code",
   "execution_count": null,
   "metadata": {},
   "outputs": [],
   "source": [
    "pd_daily_stats = pd_confirmed.copy()\n",
    "pd_daily_stats['Deaths'] = pd_deaths['Deaths']\n",
    "pd_daily_stats['Recovered'] = pd_recovered['Recovered']"
   ]
  },
  {
   "cell_type": "code",
   "execution_count": null,
   "metadata": {},
   "outputs": [],
   "source": [
    "pd_daily_stats_sorted_by_confirmed = pd_daily_stats.sort_values(by=['Confirmed'],ascending=False)"
   ]
  },
  {
   "cell_type": "code",
   "execution_count": null,
   "metadata": {},
   "outputs": [],
   "source": [
    "pd_daily_stats_sorted_by_confirmed.head()"
   ]
  },
  {
   "cell_type": "code",
   "execution_count": null,
   "metadata": {},
   "outputs": [],
   "source": []
  }
 ],
 "metadata": {
  "kernelspec": {
   "display_name": "Python 3",
   "language": "python",
   "name": "python3"
  },
  "language_info": {
   "codemirror_mode": {
    "name": "ipython",
    "version": 3
   },
   "file_extension": ".py",
   "mimetype": "text/x-python",
   "name": "python",
   "nbconvert_exporter": "python",
   "pygments_lexer": "ipython3",
   "version": "3.6.9"
  }
 },
 "nbformat": 4,
 "nbformat_minor": 2
}
