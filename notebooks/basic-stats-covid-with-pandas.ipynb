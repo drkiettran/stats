{
 "cells": [
  {
   "cell_type": "markdown",
   "metadata": {},
   "source": [
    "# Covid 19 data analysis\n",
    "This notebook contains Python code that perform exploratory data analysis (EDA) using Pandas\n",
    "\n",
    "### Requirements\n",
    "- Python 3.7 or below. (3.8+ does not work at this point with Apache Spark).\n",
    "- Pandas\n",
    "\n",
    "*** 14 June 2021: Good to demonstrate ***"
   ]
  },
  {
   "cell_type": "code",
   "execution_count": 1,
   "metadata": {},
   "outputs": [],
   "source": [
    "import pydoop.hdfs as hd\n",
    "import pandas as pd"
   ]
  },
  {
   "cell_type": "code",
   "execution_count": 2,
   "metadata": {},
   "outputs": [],
   "source": [
    "covid_data_dir='/user/student/csse_covid_19_data/'\n",
    "covid_data_daily_reports_dir=covid_data_dir + 'csse_covid_19_daily_reports/'\n",
    "covid_data_daily_file=covid_data_daily_reports_dir + '/06-07-2020.csv'"
   ]
  },
  {
   "cell_type": "code",
   "execution_count": 3,
   "metadata": {
    "scrolled": true
   },
   "outputs": [
    {
     "data": {
      "text/html": [
       "<div>\n",
       "<style scoped>\n",
       "    .dataframe tbody tr th:only-of-type {\n",
       "        vertical-align: middle;\n",
       "    }\n",
       "\n",
       "    .dataframe tbody tr th {\n",
       "        vertical-align: top;\n",
       "    }\n",
       "\n",
       "    .dataframe thead th {\n",
       "        text-align: right;\n",
       "    }\n",
       "</style>\n",
       "<table border=\"1\" class=\"dataframe\">\n",
       "  <thead>\n",
       "    <tr style=\"text-align: right;\">\n",
       "      <th></th>\n",
       "      <th>FIPS</th>\n",
       "      <th>Admin2</th>\n",
       "      <th>Province_State</th>\n",
       "      <th>Country_Region</th>\n",
       "      <th>Last_Update</th>\n",
       "      <th>Lat</th>\n",
       "      <th>Long_</th>\n",
       "      <th>Confirmed</th>\n",
       "      <th>Deaths</th>\n",
       "      <th>Recovered</th>\n",
       "      <th>Active</th>\n",
       "      <th>Combined_Key</th>\n",
       "      <th>Incidence_Rate</th>\n",
       "      <th>Case-Fatality_Ratio</th>\n",
       "    </tr>\n",
       "  </thead>\n",
       "  <tbody>\n",
       "    <tr>\n",
       "      <th>0</th>\n",
       "      <td>45001.0</td>\n",
       "      <td>Abbeville</td>\n",
       "      <td>South Carolina</td>\n",
       "      <td>US</td>\n",
       "      <td>2020-06-08 03:33:22</td>\n",
       "      <td>34.223334</td>\n",
       "      <td>-82.461707</td>\n",
       "      <td>51</td>\n",
       "      <td>0</td>\n",
       "      <td>0</td>\n",
       "      <td>51</td>\n",
       "      <td>Abbeville, South Carolina, US</td>\n",
       "      <td>207.934113</td>\n",
       "      <td>0.000000</td>\n",
       "    </tr>\n",
       "    <tr>\n",
       "      <th>1</th>\n",
       "      <td>22001.0</td>\n",
       "      <td>Acadia</td>\n",
       "      <td>Louisiana</td>\n",
       "      <td>US</td>\n",
       "      <td>2020-06-08 03:33:22</td>\n",
       "      <td>30.295065</td>\n",
       "      <td>-92.414197</td>\n",
       "      <td>502</td>\n",
       "      <td>28</td>\n",
       "      <td>0</td>\n",
       "      <td>474</td>\n",
       "      <td>Acadia, Louisiana, US</td>\n",
       "      <td>809.090176</td>\n",
       "      <td>5.577689</td>\n",
       "    </tr>\n",
       "    <tr>\n",
       "      <th>2</th>\n",
       "      <td>51001.0</td>\n",
       "      <td>Accomack</td>\n",
       "      <td>Virginia</td>\n",
       "      <td>US</td>\n",
       "      <td>2020-06-08 03:33:22</td>\n",
       "      <td>37.767072</td>\n",
       "      <td>-75.632346</td>\n",
       "      <td>983</td>\n",
       "      <td>13</td>\n",
       "      <td>0</td>\n",
       "      <td>970</td>\n",
       "      <td>Accomack, Virginia, US</td>\n",
       "      <td>3001.609110</td>\n",
       "      <td>1.340206</td>\n",
       "    </tr>\n",
       "    <tr>\n",
       "      <th>3</th>\n",
       "      <td>16001.0</td>\n",
       "      <td>Ada</td>\n",
       "      <td>Idaho</td>\n",
       "      <td>US</td>\n",
       "      <td>2020-06-08 03:33:22</td>\n",
       "      <td>43.452658</td>\n",
       "      <td>-116.241552</td>\n",
       "      <td>838</td>\n",
       "      <td>22</td>\n",
       "      <td>0</td>\n",
       "      <td>816</td>\n",
       "      <td>Ada, Idaho, US</td>\n",
       "      <td>174.008019</td>\n",
       "      <td>2.625298</td>\n",
       "    </tr>\n",
       "    <tr>\n",
       "      <th>4</th>\n",
       "      <td>19001.0</td>\n",
       "      <td>Adair</td>\n",
       "      <td>Iowa</td>\n",
       "      <td>US</td>\n",
       "      <td>2020-06-08 03:33:22</td>\n",
       "      <td>41.330756</td>\n",
       "      <td>-94.471059</td>\n",
       "      <td>9</td>\n",
       "      <td>0</td>\n",
       "      <td>0</td>\n",
       "      <td>9</td>\n",
       "      <td>Adair, Iowa, US</td>\n",
       "      <td>125.838926</td>\n",
       "      <td>0.000000</td>\n",
       "    </tr>\n",
       "    <tr>\n",
       "      <th>...</th>\n",
       "      <td>...</td>\n",
       "      <td>...</td>\n",
       "      <td>...</td>\n",
       "      <td>...</td>\n",
       "      <td>...</td>\n",
       "      <td>...</td>\n",
       "      <td>...</td>\n",
       "      <td>...</td>\n",
       "      <td>...</td>\n",
       "      <td>...</td>\n",
       "      <td>...</td>\n",
       "      <td>...</td>\n",
       "      <td>...</td>\n",
       "      <td>...</td>\n",
       "    </tr>\n",
       "    <tr>\n",
       "      <th>3672</th>\n",
       "      <td>NaN</td>\n",
       "      <td>NaN</td>\n",
       "      <td>NaN</td>\n",
       "      <td>Zambia</td>\n",
       "      <td>2020-06-08 03:33:22</td>\n",
       "      <td>-13.133897</td>\n",
       "      <td>27.849332</td>\n",
       "      <td>1089</td>\n",
       "      <td>7</td>\n",
       "      <td>912</td>\n",
       "      <td>170</td>\n",
       "      <td>Zambia</td>\n",
       "      <td>5.923643</td>\n",
       "      <td>0.642792</td>\n",
       "    </tr>\n",
       "    <tr>\n",
       "      <th>3673</th>\n",
       "      <td>NaN</td>\n",
       "      <td>NaN</td>\n",
       "      <td>NaN</td>\n",
       "      <td>Zimbabwe</td>\n",
       "      <td>2020-06-08 03:33:22</td>\n",
       "      <td>-19.015438</td>\n",
       "      <td>29.154857</td>\n",
       "      <td>282</td>\n",
       "      <td>4</td>\n",
       "      <td>34</td>\n",
       "      <td>244</td>\n",
       "      <td>Zimbabwe</td>\n",
       "      <td>1.897338</td>\n",
       "      <td>1.418440</td>\n",
       "    </tr>\n",
       "    <tr>\n",
       "      <th>3674</th>\n",
       "      <td>2066.0</td>\n",
       "      <td>Copper River</td>\n",
       "      <td>Alaska</td>\n",
       "      <td>US</td>\n",
       "      <td>2021-04-02 15:13:53</td>\n",
       "      <td>60.388600</td>\n",
       "      <td>-162.890520</td>\n",
       "      <td>0</td>\n",
       "      <td>0</td>\n",
       "      <td>0</td>\n",
       "      <td>0</td>\n",
       "      <td>Copper River, Alaska, US</td>\n",
       "      <td>NaN</td>\n",
       "      <td>NaN</td>\n",
       "    </tr>\n",
       "    <tr>\n",
       "      <th>3675</th>\n",
       "      <td>2063.0</td>\n",
       "      <td>Chugach</td>\n",
       "      <td>Alaska</td>\n",
       "      <td>US</td>\n",
       "      <td>2021-04-02 15:13:53</td>\n",
       "      <td>61.166660</td>\n",
       "      <td>-149.900000</td>\n",
       "      <td>13</td>\n",
       "      <td>0</td>\n",
       "      <td>0</td>\n",
       "      <td>0</td>\n",
       "      <td>Chugach, Alaska, US</td>\n",
       "      <td>NaN</td>\n",
       "      <td>NaN</td>\n",
       "    </tr>\n",
       "    <tr>\n",
       "      <th>3676</th>\n",
       "      <td>NaN</td>\n",
       "      <td>NaN</td>\n",
       "      <td>Unknown</td>\n",
       "      <td>China</td>\n",
       "      <td>2020-06-08 03:33:22</td>\n",
       "      <td>NaN</td>\n",
       "      <td>NaN</td>\n",
       "      <td>0</td>\n",
       "      <td>0</td>\n",
       "      <td>0</td>\n",
       "      <td>0</td>\n",
       "      <td>Unknown, China</td>\n",
       "      <td>0.000000</td>\n",
       "      <td>0.000000</td>\n",
       "    </tr>\n",
       "  </tbody>\n",
       "</table>\n",
       "<p>3677 rows × 14 columns</p>\n",
       "</div>"
      ],
      "text/plain": [
       "         FIPS        Admin2  Province_State Country_Region  \\\n",
       "0     45001.0     Abbeville  South Carolina             US   \n",
       "1     22001.0        Acadia       Louisiana             US   \n",
       "2     51001.0      Accomack        Virginia             US   \n",
       "3     16001.0           Ada           Idaho             US   \n",
       "4     19001.0         Adair            Iowa             US   \n",
       "...       ...           ...             ...            ...   \n",
       "3672      NaN           NaN             NaN         Zambia   \n",
       "3673      NaN           NaN             NaN       Zimbabwe   \n",
       "3674   2066.0  Copper River          Alaska             US   \n",
       "3675   2063.0       Chugach          Alaska             US   \n",
       "3676      NaN           NaN         Unknown          China   \n",
       "\n",
       "              Last_Update        Lat       Long_  Confirmed  Deaths  \\\n",
       "0     2020-06-08 03:33:22  34.223334  -82.461707         51       0   \n",
       "1     2020-06-08 03:33:22  30.295065  -92.414197        502      28   \n",
       "2     2020-06-08 03:33:22  37.767072  -75.632346        983      13   \n",
       "3     2020-06-08 03:33:22  43.452658 -116.241552        838      22   \n",
       "4     2020-06-08 03:33:22  41.330756  -94.471059          9       0   \n",
       "...                   ...        ...         ...        ...     ...   \n",
       "3672  2020-06-08 03:33:22 -13.133897   27.849332       1089       7   \n",
       "3673  2020-06-08 03:33:22 -19.015438   29.154857        282       4   \n",
       "3674  2021-04-02 15:13:53  60.388600 -162.890520          0       0   \n",
       "3675  2021-04-02 15:13:53  61.166660 -149.900000         13       0   \n",
       "3676  2020-06-08 03:33:22        NaN         NaN          0       0   \n",
       "\n",
       "      Recovered  Active                   Combined_Key  Incidence_Rate  \\\n",
       "0             0      51  Abbeville, South Carolina, US      207.934113   \n",
       "1             0     474          Acadia, Louisiana, US      809.090176   \n",
       "2             0     970         Accomack, Virginia, US     3001.609110   \n",
       "3             0     816                 Ada, Idaho, US      174.008019   \n",
       "4             0       9                Adair, Iowa, US      125.838926   \n",
       "...         ...     ...                            ...             ...   \n",
       "3672        912     170                         Zambia        5.923643   \n",
       "3673         34     244                       Zimbabwe        1.897338   \n",
       "3674          0       0       Copper River, Alaska, US             NaN   \n",
       "3675          0       0            Chugach, Alaska, US             NaN   \n",
       "3676          0       0                 Unknown, China        0.000000   \n",
       "\n",
       "      Case-Fatality_Ratio  \n",
       "0                0.000000  \n",
       "1                5.577689  \n",
       "2                1.340206  \n",
       "3                2.625298  \n",
       "4                0.000000  \n",
       "...                   ...  \n",
       "3672             0.642792  \n",
       "3673             1.418440  \n",
       "3674                  NaN  \n",
       "3675                  NaN  \n",
       "3676             0.000000  \n",
       "\n",
       "[3677 rows x 14 columns]"
      ]
     },
     "execution_count": 3,
     "metadata": {},
     "output_type": "execute_result"
    }
   ],
   "source": [
    "with hd.open(covid_data_daily_file) as f:\n",
    "    pd_daily =  pd.read_csv(f)\n",
    "\n",
    "pd_daily"
   ]
  },
  {
   "cell_type": "code",
   "execution_count": 21,
   "metadata": {},
   "outputs": [],
   "source": [
    "pd_confirmed = pd_daily.groupby(['Country_Region'])['Confirmed'].sum()\n",
    "pd_deaths = pd_daily.groupby(['Country_Region'])['Deaths'].sum()\n",
    "pd_recovered = pd_daily.groupby(['Country_Region'])['Recovered'].sum()\n",
    "# pd_confirmed.columns=['Country_Region','Confirmed']"
   ]
  },
  {
   "cell_type": "code",
   "execution_count": 22,
   "metadata": {},
   "outputs": [],
   "source": [
    "# sorted_pd_confirmed = pd_confirmed.sort_values(by=['Confirmed'], ascending=False)\n",
    "pd_confirmed.columns=['Country_Region','Confirmed']\n",
    "pd_confirmed\n",
    "sorted_pd_confirmed = pd_confirmed.sort_values()"
   ]
  },
  {
   "cell_type": "code",
   "execution_count": 23,
   "metadata": {},
   "outputs": [
    {
     "name": "stderr",
     "output_type": "stream",
     "text": [
      "/home/student/.local/lib/python3.6/site-packages/pandas/plotting/_matplotlib/core.py:1182: UserWarning: FixedFormatter should only be used together with FixedLocator\n",
      "  ax.set_xticklabels(xticklabels)\n"
     ]
    },
    {
     "data": {
      "text/plain": [
       "<AxesSubplot:xlabel='Country_Region'>"
      ]
     },
     "execution_count": 23,
     "metadata": {},
     "output_type": "execute_result"
    },
    {
     "data": {
      "image/png": "[encoded data removed]",
      "text/plain": [
       "<Figure size 432x288 with 1 Axes>"
      ]
     },
     "metadata": {
      "needs_background": "light"
     },
     "output_type": "display_data"
    }
   ],
   "source": [
    "sorted_pd_confirmed.take([0,10]).plot()\n",
    "sorted_pd_confirmed.head().plot()"
   ]
  },
  {
   "cell_type": "code",
   "execution_count": 24,
   "metadata": {},
   "outputs": [
    {
     "data": {
      "text/plain": [
       "Country_Region\n",
       "Samoa                0\n",
       "Lesotho              4\n",
       "Papua New Guinea     8\n",
       "MS Zaandam           9\n",
       "Seychelles          11\n",
       "Name: Confirmed, dtype: int64"
      ]
     },
     "execution_count": 24,
     "metadata": {},
     "output_type": "execute_result"
    }
   ],
   "source": [
    "sorted_pd_confirmed.head()"
   ]
  },
  {
   "cell_type": "code",
   "execution_count": 25,
   "metadata": {},
   "outputs": [
    {
     "data": {
      "text/plain": [
       "(188, 188, 188)"
      ]
     },
     "execution_count": 25,
     "metadata": {},
     "output_type": "execute_result"
    }
   ],
   "source": [
    "len(pd_deaths), len(pd_confirmed), len(pd_recovered)"
   ]
  },
  {
   "cell_type": "code",
   "execution_count": 34,
   "metadata": {},
   "outputs": [],
   "source": [
    "pd_daily_stats = pd_confirmed.copy()\n",
    "# pd_daily_stats['Deaths'] = pd_deaths['Deaths']\n",
    "# pd_daily_stats['Recovered'] = pd_recovered['Recovered']"
   ]
  },
  {
   "cell_type": "code",
   "execution_count": 35,
   "metadata": {},
   "outputs": [],
   "source": [
    "pd_daily_stats_sorted_by_confirmed = pd_daily_stats.sort_values(ascending=False)"
   ]
  },
  {
   "cell_type": "code",
   "execution_count": 36,
   "metadata": {},
   "outputs": [
    {
     "data": {
      "text/plain": [
       "Country_Region\n",
       "US                1946405\n",
       "Brazil             691758\n",
       "Russia             467073\n",
       "United Kingdom     287621\n",
       "India              257486\n",
       "Name: Confirmed, dtype: int64"
      ]
     },
     "execution_count": 36,
     "metadata": {},
     "output_type": "execute_result"
    }
   ],
   "source": [
    "pd_daily_stats_sorted_by_confirmed.head()"
   ]
  },
  {
   "cell_type": "code",
   "execution_count": null,
   "metadata": {},
   "outputs": [],
   "source": []
  }
 ],
 "metadata": {
  "kernelspec": {
   "display_name": "Python 3",
   "language": "python",
   "name": "python3"
  },
  "language_info": {
   "codemirror_mode": {
    "name": "ipython",
    "version": 3
   },
   "file_extension": ".py",
   "mimetype": "text/x-python",
   "name": "python",
   "nbconvert_exporter": "python",
   "pygments_lexer": "ipython3",
   "version": "3.6.9"
  }
 },
 "nbformat": 4,
 "nbformat_minor": 2
}
