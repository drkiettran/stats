{
 "cells": [
  {
   "cell_type": "markdown",
   "metadata": {},
   "source": [
    "# Covid 19 data analysis\n",
    "This notebook contains Python code that perform exploratory data analysis (EDA) using Apache Spark\n",
    "Data Analytics engine and Pandas\n",
    "\n",
    "**Requirements**\n",
    "- Python 3.7 or below.\n",
    "- Apache Spark\n",
    "- Pandas\n",
    "\n",
    "**Other tools**\n",
    "- scipy\n",
    "- numpy\n",
    "- matplotlib\n",
    "- scikit-learn\n",
    "- seaborn\n",
    "- scrapy"
   ]
  },
  {
   "cell_type": "code",
   "execution_count": 1,
   "metadata": {},
   "outputs": [],
   "source": [
    "from pyspark import SparkContext, SparkConf, SQLContext\n",
    "from pyspark.sql import SparkSession\n",
    "import pandas as pd\n",
    "import matplotlib.pyplot as plt\n",
    "import os\n",
    "from hdfs3 import HDFileSystem\n",
    "import subprocess"
   ]
  },
  {
   "cell_type": "code",
   "execution_count": 2,
   "metadata": {},
   "outputs": [],
   "source": [
    "date = '12-28-2020'\n",
    "covid_data_dir='hdfs://localhost:9000/user/student/csse_covid_19_data/'\n",
    "covid_data_daily_reports_dir=covid_data_dir + 'csse_covid_19_daily_reports/'\n",
    "covid_data_daily_file=covid_data_daily_reports_dir + date + '.csv'"
   ]
  },
  {
   "cell_type": "code",
   "execution_count": 3,
   "metadata": {},
   "outputs": [],
   "source": [
    "spark = SparkSession.builder.appName(\"covid-stats\").config(\"spark.config.option\", \"value\").getOrCreate()"
   ]
  },
  {
   "cell_type": "code",
   "execution_count": 4,
   "metadata": {},
   "outputs": [
    {
     "name": "stdout",
     "output_type": "stream",
     "text": [
      "Apache Spark version 2.4.0\n",
      "Daily exploratory Data Analysis (EDA) for file hdfs://localhost:9000/user/student/csse_covid_19_data/csse_covid_19_daily_reports/12-28-2020.csv\n"
     ]
    }
   ],
   "source": [
    "print(f'Apache Spark version {spark.version}')\n",
    "print(f'Daily exploratory Data Analysis (EDA) for file {covid_data_daily_file}')"
   ]
  },
  {
   "cell_type": "markdown",
   "metadata": {},
   "source": [
    "## Reading daily raw data from a csv file"
   ]
  },
  {
   "cell_type": "code",
   "execution_count": 5,
   "metadata": {
    "scrolled": true
   },
   "outputs": [
    {
     "name": "stdout",
     "output_type": "stream",
     "text": [
      "Load csv file successfully. There are 3980 entries\n"
     ]
    }
   ],
   "source": [
    "df_raw = spark.read.option(\"header\", \"true\").csv(covid_data_daily_file)\n",
    "print(f'Load csv file successfully. There are {df_raw.count()} entries')"
   ]
  },
  {
   "cell_type": "code",
   "execution_count": 6,
   "metadata": {},
   "outputs": [],
   "source": [
    "df_daily_by_country = df_raw.groupby(['Country Region'])\n",
    "df_clean = df_raw.select([c for c in df_raw.columns if c in ['Country_Region','Confirmed','Deaths', 'Active', 'Recovered']])"
   ]
  },
  {
   "cell_type": "markdown",
   "metadata": {},
   "source": [
    "## Processing data by countries or regions"
   ]
  },
  {
   "cell_type": "code",
   "execution_count": 7,
   "metadata": {},
   "outputs": [],
   "source": [
    "def toInt(item):\n",
    "    if item:\n",
    "        return int(item)\n",
    "    else:\n",
    "        return 0"
   ]
  },
  {
   "cell_type": "code",
   "execution_count": 8,
   "metadata": {},
   "outputs": [],
   "source": [
    "df_confirmed = df_clean.rdd.map(lambda x: (x['Country_Region'], toInt(x['Confirmed']))).reduceByKey(lambda x,y: x + y).toDF()\n",
    "df_deaths    = df_clean.rdd.map(lambda x: (x['Country_Region'], toInt(x['Deaths']))).reduceByKey(lambda x,y: x + y).toDF()\n",
    "df_recovered = df_clean.rdd.map(lambda x: (x['Country_Region'], toInt(x['Recovered']))).reduceByKey(lambda x,y: x + y).toDF()\n",
    "df_active    = df_clean.rdd.map(lambda x: (x['Country_Region'], toInt(x['Active']))).reduceByKey(lambda x,y: x + y).toDF()\n",
    "\n",
    "df_confirmed = df_confirmed.selectExpr(\"_1 as Country_Region\", \"_2 as Confirmed\")\n",
    "df_deaths    = df_deaths.selectExpr(\"_1 as Country_Region\", \"_2 as Deaths\")\n",
    "df_recovered = df_recovered.selectExpr(\"_1 as Country_Region\", \"_2 as Recovered\")\n",
    "df_active    = df_active.selectExpr(\"_1 as Country_Region\", \"_2 as Active\")\n"
   ]
  },
  {
   "cell_type": "code",
   "execution_count": 9,
   "metadata": {
    "scrolled": true
   },
   "outputs": [
    {
     "name": "stdout",
     "output_type": "stream",
     "text": [
      "+-------+--------------+------------------+-----------------+-----------------+------------------+\n",
      "|summary|Country_Region|         Confirmed|           Deaths|        Recovered|            Active|\n",
      "+-------+--------------+------------------+-----------------+-----------------+------------------+\n",
      "|  count|           191|               191|              191|              191|               191|\n",
      "|   mean|          null|426224.78534031415| 9326.58115183246|240922.1780104712| 175442.5392670157|\n",
      "| stddev|          null| 1717391.963765395|33081.61631707191|909835.0164655879|1395867.7517698472|\n",
      "|    min|   Afghanistan|                 1|                0|                0|                 0|\n",
      "|    max|      Zimbabwe|          19429760|           341279|          9807569|          18966707|\n",
      "+-------+--------------+------------------+-----------------+-----------------+------------------+\n",
      "\n"
     ]
    },
    {
     "data": {
      "text/plain": [
       "[Row(Country_Region='US', Confirmed=19429760, Deaths=341279, Recovered=0, Active=18966707)]"
      ]
     },
     "execution_count": 9,
     "metadata": {},
     "output_type": "execute_result"
    }
   ],
   "source": [
    "df_new = df_confirmed.join(df_deaths, on=['Country_Region'], how='left_outer')\n",
    "df_new = df_new.join(df_recovered, on=['Country_Region'], how='left_outer')\n",
    "df_new = df_new.join(df_active, on=['Country_Region'], how='left_outer')\n",
    "df_by_country = df_new\n",
    "df_by_country.describe().show()\n",
    "# df_by_country.where(df_new.Country_Region == 'Zimbabwe').collect()\n",
    "df_by_country.where(df_by_country.Country_Region == 'US').collect()\n"
   ]
  },
  {
   "cell_type": "code",
   "execution_count": 10,
   "metadata": {},
   "outputs": [
    {
     "name": "stdout",
     "output_type": "stream",
     "text": [
      "Row(Confirmed=19429760) Row(Confirmed=1)\n",
      "Row(Deaths=341279) Row(Deaths=0)\n",
      "Row(Recovered=9807569) Row(Recovered=0)\n",
      "Row(Active=18966707) Row(Active=0)\n"
     ]
    }
   ],
   "source": [
    "# Most Confirmed:\n",
    "# df_by_country.select(\"Confirmed\").rdd.max()[0]\n",
    "for col in df_by_country.columns:\n",
    "    if col != 'Country_Region':\n",
    "        rdd = df_by_country.select(col).rdd\n",
    "        print(rdd.max(), rdd.min())\n",
    "# df_by_country.where(df_by_country.Confirmed == df_by_country['Confirmed'].max()).collect()"
   ]
  },
  {
   "cell_type": "code",
   "execution_count": 11,
   "metadata": {
    "scrolled": true
   },
   "outputs": [],
   "source": [
    "# Writing to file ordered by country\n",
    "\n",
    "df_output_filename = '/tmp/' + date\n",
    "subprocess.run(['hdfs', 'dfs', '-rm', '-r', df_output_filename])\n",
    "df_by_country.orderBy('Country_Region')\\\n",
    "             .coalesce(1)\\\n",
    "             .write.format('csv')\\\n",
    "             .option('header','true')\\\n",
    "             .save(df_output_filename)"
   ]
  },
  {
   "cell_type": "code",
   "execution_count": 12,
   "metadata": {},
   "outputs": [
    {
     "data": {
      "text/plain": [
       "[Row(Country_Region='Afghanistan', Confirmed=51280, Deaths=2174, Recovered=41441, Active=7665)]"
      ]
     },
     "execution_count": 12,
     "metadata": {},
     "output_type": "execute_result"
    }
   ],
   "source": [
    "df_by_country.orderBy('Country_Region').take(1)"
   ]
  },
  {
   "cell_type": "markdown",
   "metadata": {},
   "source": [
    "### Convert Spark Dataframe to PANDAS Dataframe"
   ]
  },
  {
   "cell_type": "code",
   "execution_count": 13,
   "metadata": {},
   "outputs": [
    {
     "data": {
      "text/html": [
       "<div>\n",
       "<style scoped>\n",
       "    .dataframe tbody tr th:only-of-type {\n",
       "        vertical-align: middle;\n",
       "    }\n",
       "\n",
       "    .dataframe tbody tr th {\n",
       "        vertical-align: top;\n",
       "    }\n",
       "\n",
       "    .dataframe thead th {\n",
       "        text-align: right;\n",
       "    }\n",
       "</style>\n",
       "<table border=\"1\" class=\"dataframe\">\n",
       "  <thead>\n",
       "    <tr style=\"text-align: right;\">\n",
       "      <th></th>\n",
       "      <th>Country_Region</th>\n",
       "      <th>Confirmed</th>\n",
       "      <th>Deaths</th>\n",
       "      <th>Recovered</th>\n",
       "      <th>Active</th>\n",
       "    </tr>\n",
       "  </thead>\n",
       "  <tbody>\n",
       "    <tr>\n",
       "      <th>59</th>\n",
       "      <td>Marshall Islands</td>\n",
       "      <td>4</td>\n",
       "      <td>0</td>\n",
       "      <td>4</td>\n",
       "      <td>0</td>\n",
       "    </tr>\n",
       "  </tbody>\n",
       "</table>\n",
       "</div>"
      ],
      "text/plain": [
       "      Country_Region  Confirmed  Deaths  Recovered  Active\n",
       "59  Marshall Islands          4       0          4       0"
      ]
     },
     "execution_count": 13,
     "metadata": {},
     "output_type": "execute_result"
    }
   ],
   "source": [
    "pd_by_country = df_by_country.toPandas()\n",
    "pd_by_country[(pd_by_country.Confirmed == 4)]"
   ]
  },
  {
   "cell_type": "code",
   "execution_count": 14,
   "metadata": {},
   "outputs": [
    {
     "data": {
      "text/plain": [
       "Country_Region    Zimbabwe\n",
       "Confirmed         19429760\n",
       "Deaths              341279\n",
       "Recovered          9807569\n",
       "Active            18966707\n",
       "dtype: object"
      ]
     },
     "execution_count": 14,
     "metadata": {},
     "output_type": "execute_result"
    }
   ],
   "source": [
    "pd_by_country.max()"
   ]
  },
  {
   "cell_type": "code",
   "execution_count": 15,
   "metadata": {},
   "outputs": [
    {
     "data": {
      "text/plain": [
       "Country_Region    Afghanistan\n",
       "Confirmed                   1\n",
       "Deaths                      0\n",
       "Recovered                   0\n",
       "Active                      0\n",
       "dtype: object"
      ]
     },
     "execution_count": 15,
     "metadata": {},
     "output_type": "execute_result"
    }
   ],
   "source": [
    "pd_by_country.min()"
   ]
  },
  {
   "cell_type": "code",
   "execution_count": 16,
   "metadata": {},
   "outputs": [
    {
     "data": {
      "text/plain": [
       "Confirmed    41603.0\n",
       "Deaths         487.0\n",
       "Recovered    18277.0\n",
       "Active        4129.0\n",
       "dtype: float64"
      ]
     },
     "execution_count": 16,
     "metadata": {},
     "output_type": "execute_result"
    }
   ],
   "source": [
    "pd_by_country.median()"
   ]
  },
  {
   "cell_type": "code",
   "execution_count": 17,
   "metadata": {},
   "outputs": [
    {
     "data": {
      "text/plain": [
       "Confirmed    1.717392e+06\n",
       "Deaths       3.308162e+04\n",
       "Recovered    9.098350e+05\n",
       "Active       1.395868e+06\n",
       "dtype: float64"
      ]
     },
     "execution_count": 17,
     "metadata": {},
     "output_type": "execute_result"
    }
   ],
   "source": [
    "pd_by_country.std()"
   ]
  },
  {
   "cell_type": "code",
   "execution_count": 18,
   "metadata": {},
   "outputs": [
    {
     "data": {
      "text/plain": [
       "Confirmed    2.949435e+12\n",
       "Deaths       1.094393e+09\n",
       "Recovered    8.277998e+11\n",
       "Active       1.948447e+12\n",
       "dtype: float64"
      ]
     },
     "execution_count": 18,
     "metadata": {},
     "output_type": "execute_result"
    }
   ],
   "source": [
    "pd_by_country.var()"
   ]
  },
  {
   "cell_type": "code",
   "execution_count": 19,
   "metadata": {},
   "outputs": [
    {
     "data": {
      "text/plain": [
       "<bound method DataFrame.idxmax of        Country_Region  Confirmed  Deaths  Recovered   Active\n",
       "0                Chad       2015     104       1686      225\n",
       "1            Paraguay     105374    2202      79171    24001\n",
       "2              Russia    3047335   54559    2446412   546364\n",
       "3               Yemen       2096     608       1386      105\n",
       "4             Senegal      18728     390      17031     1307\n",
       "..                ...        ...     ...        ...      ...\n",
       "186    United Kingdom    2336692   71217       5105  2260369\n",
       "187           Vietnam       1451      35       1303      113\n",
       "188  Diamond Princess        712      13        699        0\n",
       "189              Mali       6703     256       4452     1995\n",
       "190       Netherlands     781467   11135       9150   761182\n",
       "\n",
       "[191 rows x 5 columns]>"
      ]
     },
     "execution_count": 19,
     "metadata": {},
     "output_type": "execute_result"
    }
   ],
   "source": [
    "pd_by_country.idxmax"
   ]
  },
  {
   "cell_type": "code",
   "execution_count": 20,
   "metadata": {},
   "outputs": [
    {
     "name": "stdout",
     "output_type": "stream",
     "text": [
      "label: Country_Region\n",
      "content: 0                  Chad\n",
      "1              Paraguay\n",
      "2                Russia\n",
      "3                 Yemen\n",
      "4               Senegal\n",
      "             ...       \n",
      "186      United Kingdom\n",
      "187             Vietnam\n",
      "188    Diamond Princess\n",
      "189                Mali\n",
      "190         Netherlands\n",
      "Name: Country_Region, Length: 191, dtype: object\n",
      "label: Confirmed\n",
      "content: 0         2015\n",
      "1       105374\n",
      "2      3047335\n",
      "3         2096\n",
      "4        18728\n",
      "        ...   \n",
      "186    2336692\n",
      "187       1451\n",
      "188        712\n",
      "189       6703\n",
      "190     781467\n",
      "Name: Confirmed, Length: 191, dtype: int64\n",
      "label: Deaths\n",
      "content: 0        104\n",
      "1       2202\n",
      "2      54559\n",
      "3        608\n",
      "4        390\n",
      "       ...  \n",
      "186    71217\n",
      "187       35\n",
      "188       13\n",
      "189      256\n",
      "190    11135\n",
      "Name: Deaths, Length: 191, dtype: int64\n",
      "label: Recovered\n",
      "content: 0         1686\n",
      "1        79171\n",
      "2      2446412\n",
      "3         1386\n",
      "4        17031\n",
      "        ...   \n",
      "186       5105\n",
      "187       1303\n",
      "188        699\n",
      "189       4452\n",
      "190       9150\n",
      "Name: Recovered, Length: 191, dtype: int64\n",
      "label: Active\n",
      "content: 0          225\n",
      "1        24001\n",
      "2       546364\n",
      "3          105\n",
      "4         1307\n",
      "        ...   \n",
      "186    2260369\n",
      "187        113\n",
      "188          0\n",
      "189       1995\n",
      "190     761182\n",
      "Name: Active, Length: 191, dtype: int64\n"
     ]
    }
   ],
   "source": [
    "for label, content in pd_by_country.items():\n",
    "    print(f'label: {label}')\n",
    "    print(f'content: {content}', sep='\\n')"
   ]
  },
  {
   "cell_type": "code",
   "execution_count": 21,
   "metadata": {},
   "outputs": [
    {
     "data": {
      "text/html": [
       "<div>\n",
       "<style scoped>\n",
       "    .dataframe tbody tr th:only-of-type {\n",
       "        vertical-align: middle;\n",
       "    }\n",
       "\n",
       "    .dataframe tbody tr th {\n",
       "        vertical-align: top;\n",
       "    }\n",
       "\n",
       "    .dataframe thead th {\n",
       "        text-align: right;\n",
       "    }\n",
       "</style>\n",
       "<table border=\"1\" class=\"dataframe\">\n",
       "  <thead>\n",
       "    <tr style=\"text-align: right;\">\n",
       "      <th></th>\n",
       "      <th>Country_Region</th>\n",
       "      <th>Confirmed</th>\n",
       "      <th>Deaths</th>\n",
       "      <th>Recovered</th>\n",
       "      <th>Active</th>\n",
       "    </tr>\n",
       "  </thead>\n",
       "  <tbody>\n",
       "    <tr>\n",
       "      <th>84</th>\n",
       "      <td>US</td>\n",
       "      <td>19429760</td>\n",
       "      <td>341279</td>\n",
       "      <td>0</td>\n",
       "      <td>18966707</td>\n",
       "    </tr>\n",
       "  </tbody>\n",
       "</table>\n",
       "</div>"
      ],
      "text/plain": [
       "   Country_Region  Confirmed  Deaths  Recovered    Active\n",
       "84             US   19429760  341279          0  18966707"
      ]
     },
     "execution_count": 21,
     "metadata": {},
     "output_type": "execute_result"
    }
   ],
   "source": [
    "pd_by_country[(pd_by_country.Country_Region == 'US')]"
   ]
  },
  {
   "cell_type": "code",
   "execution_count": 22,
   "metadata": {
    "scrolled": true
   },
   "outputs": [
    {
     "data": {
      "text/html": [
       "<div>\n",
       "<style scoped>\n",
       "    .dataframe tbody tr th:only-of-type {\n",
       "        vertical-align: middle;\n",
       "    }\n",
       "\n",
       "    .dataframe tbody tr th {\n",
       "        vertical-align: top;\n",
       "    }\n",
       "\n",
       "    .dataframe thead th {\n",
       "        text-align: right;\n",
       "    }\n",
       "</style>\n",
       "<table border=\"1\" class=\"dataframe\">\n",
       "  <thead>\n",
       "    <tr style=\"text-align: right;\">\n",
       "      <th></th>\n",
       "      <th>Confirmed</th>\n",
       "      <th>Deaths</th>\n",
       "      <th>Recovered</th>\n",
       "      <th>Active</th>\n",
       "    </tr>\n",
       "  </thead>\n",
       "  <tbody>\n",
       "    <tr>\n",
       "      <th>count</th>\n",
       "      <td>1.910000e+02</td>\n",
       "      <td>191.000000</td>\n",
       "      <td>1.910000e+02</td>\n",
       "      <td>1.910000e+02</td>\n",
       "    </tr>\n",
       "    <tr>\n",
       "      <th>mean</th>\n",
       "      <td>4.262248e+05</td>\n",
       "      <td>9326.581152</td>\n",
       "      <td>2.409222e+05</td>\n",
       "      <td>1.754425e+05</td>\n",
       "    </tr>\n",
       "    <tr>\n",
       "      <th>std</th>\n",
       "      <td>1.717392e+06</td>\n",
       "      <td>33081.616317</td>\n",
       "      <td>9.098350e+05</td>\n",
       "      <td>1.395868e+06</td>\n",
       "    </tr>\n",
       "    <tr>\n",
       "      <th>min</th>\n",
       "      <td>1.000000e+00</td>\n",
       "      <td>0.000000</td>\n",
       "      <td>0.000000e+00</td>\n",
       "      <td>0.000000e+00</td>\n",
       "    </tr>\n",
       "    <tr>\n",
       "      <th>25%</th>\n",
       "      <td>5.098000e+03</td>\n",
       "      <td>71.500000</td>\n",
       "      <td>2.723500e+03</td>\n",
       "      <td>3.080000e+02</td>\n",
       "    </tr>\n",
       "    <tr>\n",
       "      <th>50%</th>\n",
       "      <td>4.160300e+04</td>\n",
       "      <td>487.000000</td>\n",
       "      <td>1.827700e+04</td>\n",
       "      <td>4.129000e+03</td>\n",
       "    </tr>\n",
       "    <tr>\n",
       "      <th>75%</th>\n",
       "      <td>1.983560e+05</td>\n",
       "      <td>3497.500000</td>\n",
       "      <td>1.297975e+05</td>\n",
       "      <td>2.843400e+04</td>\n",
       "    </tr>\n",
       "    <tr>\n",
       "      <th>max</th>\n",
       "      <td>1.942976e+07</td>\n",
       "      <td>341279.000000</td>\n",
       "      <td>9.807569e+06</td>\n",
       "      <td>1.896671e+07</td>\n",
       "    </tr>\n",
       "  </tbody>\n",
       "</table>\n",
       "</div>"
      ],
      "text/plain": [
       "          Confirmed         Deaths     Recovered        Active\n",
       "count  1.910000e+02     191.000000  1.910000e+02  1.910000e+02\n",
       "mean   4.262248e+05    9326.581152  2.409222e+05  1.754425e+05\n",
       "std    1.717392e+06   33081.616317  9.098350e+05  1.395868e+06\n",
       "min    1.000000e+00       0.000000  0.000000e+00  0.000000e+00\n",
       "25%    5.098000e+03      71.500000  2.723500e+03  3.080000e+02\n",
       "50%    4.160300e+04     487.000000  1.827700e+04  4.129000e+03\n",
       "75%    1.983560e+05    3497.500000  1.297975e+05  2.843400e+04\n",
       "max    1.942976e+07  341279.000000  9.807569e+06  1.896671e+07"
      ]
     },
     "execution_count": 22,
     "metadata": {},
     "output_type": "execute_result"
    }
   ],
   "source": [
    "pd_by_country.describe()"
   ]
  },
  {
   "cell_type": "code",
   "execution_count": 23,
   "metadata": {},
   "outputs": [],
   "source": [
    "pd_by_country.to_json('./country_by_day.json')\n"
   ]
  },
  {
   "cell_type": "code",
   "execution_count": 24,
   "metadata": {},
   "outputs": [
    {
     "name": "stdout",
     "output_type": "stream",
     "text": [
      "mean: 426224.78534031415\n",
      "median: 41603.0\n",
      "min: 1\n",
      "stddev: 1717391.9637653949\n",
      "kurtosis: 85.78419040847659\n",
      "skew: 8.616210385479354\n",
      "idxmax: 84\n",
      "idxmin: 183\n",
      "var: 2949435157205.959\n"
     ]
    },
    {
     "data": {
      "text/plain": [
       "<AxesSubplot:>"
      ]
     },
     "execution_count": 24,
     "metadata": {},
     "output_type": "execute_result"
    },
    {
     "data": {
      "image/png": "[encoded data removed]",
      "text/plain": [
       "<Figure size 1080x1440 with 1 Axes>"
      ]
     },
     "metadata": {
      "needs_background": "light"
     },
     "output_type": "display_data"
    }
   ],
   "source": [
    "print('mean:', pd_by_country['Confirmed'].mean())\n",
    "print('median:', pd_by_country['Confirmed'].median())\n",
    "print('min:', pd_by_country['Confirmed'].min())\n",
    "print('stddev:', pd_by_country['Confirmed'].std())\n",
    "print('kurtosis:', pd_by_country['Confirmed'].kurtosis())\n",
    "print('skew:', pd_by_country['Confirmed'].skew())\n",
    "print('idxmax:', pd_by_country['Confirmed'].idxmax())\n",
    "print('idxmin:', pd_by_country['Confirmed'].idxmin())\n",
    "print('var:', pd_by_country['Confirmed'].var())\n",
    "# pd_by_country['Confirmed'].plot()\n",
    "# pd_by_country['Deaths'].plot()\n",
    "# pd_by_country['Recovered'].plot()\n",
    "pd_by_country.plot(figsize=(15,20))"
   ]
  },
  {
   "cell_type": "code",
   "execution_count": 25,
   "metadata": {},
   "outputs": [
    {
     "data": {
      "text/html": [
       "<div>\n",
       "<style scoped>\n",
       "    .dataframe tbody tr th:only-of-type {\n",
       "        vertical-align: middle;\n",
       "    }\n",
       "\n",
       "    .dataframe tbody tr th {\n",
       "        vertical-align: top;\n",
       "    }\n",
       "\n",
       "    .dataframe thead th {\n",
       "        text-align: right;\n",
       "    }\n",
       "</style>\n",
       "<table border=\"1\" class=\"dataframe\">\n",
       "  <thead>\n",
       "    <tr style=\"text-align: right;\">\n",
       "      <th></th>\n",
       "      <th>Country_Region</th>\n",
       "      <th>Confirmed</th>\n",
       "      <th>Deaths</th>\n",
       "      <th>Recovered</th>\n",
       "      <th>Active</th>\n",
       "    </tr>\n",
       "  </thead>\n",
       "  <tbody>\n",
       "    <tr>\n",
       "      <th>0</th>\n",
       "      <td>Chad</td>\n",
       "      <td>2015</td>\n",
       "      <td>104</td>\n",
       "      <td>1686</td>\n",
       "      <td>225</td>\n",
       "    </tr>\n",
       "    <tr>\n",
       "      <th>1</th>\n",
       "      <td>Paraguay</td>\n",
       "      <td>105374</td>\n",
       "      <td>2202</td>\n",
       "      <td>79171</td>\n",
       "      <td>24001</td>\n",
       "    </tr>\n",
       "    <tr>\n",
       "      <th>2</th>\n",
       "      <td>Russia</td>\n",
       "      <td>3047335</td>\n",
       "      <td>54559</td>\n",
       "      <td>2446412</td>\n",
       "      <td>546364</td>\n",
       "    </tr>\n",
       "    <tr>\n",
       "      <th>3</th>\n",
       "      <td>Yemen</td>\n",
       "      <td>2096</td>\n",
       "      <td>608</td>\n",
       "      <td>1386</td>\n",
       "      <td>105</td>\n",
       "    </tr>\n",
       "    <tr>\n",
       "      <th>4</th>\n",
       "      <td>Senegal</td>\n",
       "      <td>18728</td>\n",
       "      <td>390</td>\n",
       "      <td>17031</td>\n",
       "      <td>1307</td>\n",
       "    </tr>\n",
       "    <tr>\n",
       "      <th>...</th>\n",
       "      <td>...</td>\n",
       "      <td>...</td>\n",
       "      <td>...</td>\n",
       "      <td>...</td>\n",
       "      <td>...</td>\n",
       "    </tr>\n",
       "    <tr>\n",
       "      <th>186</th>\n",
       "      <td>United Kingdom</td>\n",
       "      <td>2336692</td>\n",
       "      <td>71217</td>\n",
       "      <td>5105</td>\n",
       "      <td>2260369</td>\n",
       "    </tr>\n",
       "    <tr>\n",
       "      <th>187</th>\n",
       "      <td>Vietnam</td>\n",
       "      <td>1451</td>\n",
       "      <td>35</td>\n",
       "      <td>1303</td>\n",
       "      <td>113</td>\n",
       "    </tr>\n",
       "    <tr>\n",
       "      <th>188</th>\n",
       "      <td>Diamond Princess</td>\n",
       "      <td>712</td>\n",
       "      <td>13</td>\n",
       "      <td>699</td>\n",
       "      <td>0</td>\n",
       "    </tr>\n",
       "    <tr>\n",
       "      <th>189</th>\n",
       "      <td>Mali</td>\n",
       "      <td>6703</td>\n",
       "      <td>256</td>\n",
       "      <td>4452</td>\n",
       "      <td>1995</td>\n",
       "    </tr>\n",
       "    <tr>\n",
       "      <th>190</th>\n",
       "      <td>Netherlands</td>\n",
       "      <td>781467</td>\n",
       "      <td>11135</td>\n",
       "      <td>9150</td>\n",
       "      <td>761182</td>\n",
       "    </tr>\n",
       "  </tbody>\n",
       "</table>\n",
       "<p>191 rows × 5 columns</p>\n",
       "</div>"
      ],
      "text/plain": [
       "       Country_Region  Confirmed  Deaths  Recovered   Active\n",
       "0                Chad       2015     104       1686      225\n",
       "1            Paraguay     105374    2202      79171    24001\n",
       "2              Russia    3047335   54559    2446412   546364\n",
       "3               Yemen       2096     608       1386      105\n",
       "4             Senegal      18728     390      17031     1307\n",
       "..                ...        ...     ...        ...      ...\n",
       "186    United Kingdom    2336692   71217       5105  2260369\n",
       "187           Vietnam       1451      35       1303      113\n",
       "188  Diamond Princess        712      13        699        0\n",
       "189              Mali       6703     256       4452     1995\n",
       "190       Netherlands     781467   11135       9150   761182\n",
       "\n",
       "[191 rows x 5 columns]"
      ]
     },
     "execution_count": 25,
     "metadata": {},
     "output_type": "execute_result"
    }
   ],
   "source": [
    "pd_by_country"
   ]
  },
  {
   "cell_type": "code",
   "execution_count": null,
   "metadata": {},
   "outputs": [],
   "source": []
  }
 ],
 "metadata": {
  "kernelspec": {
   "display_name": "Python 3",
   "language": "python",
   "name": "python3"
  },
  "language_info": {
   "codemirror_mode": {
    "name": "ipython",
    "version": 3
   },
   "file_extension": ".py",
   "mimetype": "text/x-python",
   "name": "python",
   "nbconvert_exporter": "python",
   "pygments_lexer": "ipython3",
   "version": "3.6.9"
  }
 },
 "nbformat": 4,
 "nbformat_minor": 2
}
